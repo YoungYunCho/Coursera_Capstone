{
 "cells": [
  {
   "cell_type": "markdown",
   "metadata": {},
   "source": [
    "We will try to find an optimal location for a cafe. This report will be targeted to stakeholders interested in opening a Coffee Shop in Sejong, Korea.\n",
    "Although there are lots of cafes we will try to detect locations that are not already crowded.\n",
    "\n",
    "Data\n",
    "number of existing cafe in the neighborhood\n",
    "number of and distance to other cafe\n",
    "distance of neighborhood from city center\n",
    "\n",
    "Data Needed\n",
    "Location : Google Maps API reverse geocoding\n",
    "Number and Type: Foursquare API\n",
    "Google Maps API geocoding"
   ]
  }
 ],
 "metadata": {
  "kernelspec": {
   "display_name": "Python",
   "language": "python",
   "name": "conda-env-python-py"
  },
  "language_info": {
   "codemirror_mode": {
    "name": "ipython",
    "version": 3
   },
   "file_extension": ".py",
   "mimetype": "text/x-python",
   "name": "python",
   "nbconvert_exporter": "python",
   "pygments_lexer": "ipython3",
   "version": "3.6.7"
  }
 },
 "nbformat": 4,
 "nbformat_minor": 4
}
